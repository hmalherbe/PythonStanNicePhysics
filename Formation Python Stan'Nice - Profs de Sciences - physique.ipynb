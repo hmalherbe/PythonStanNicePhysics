{
 "cells": [
  {
   "cell_type": "markdown",
   "metadata": {},
   "source": [
    "# Initiation au langage Python pour les physiciennes de Stan'Nice\n",
    "\n",
    "<img src=\"img/profs_phy_Stan.png\">\n",
    "<img src=\"img/logo_Python.jpg\" width=100><br>\n",
    "\n",
    "<b>Python</b> est un langage de programmation interprété, multi-paradigme et multiplateformes. Il favorise la programmation impérative structurée, fonctionnelle et orientée objet."
   ]
  },
  {
   "cell_type": "markdown",
   "metadata": {},
   "source": [
    "<H3>LES VARIABLES</H3>\n",
    "<p>\n",
    "Les types de <b>variables</b> en Python :\n",
    "<ul>\n",
    "    <li>nombres entiers : type <b>int</b></li>\n",
    "    <li>nombres à virgule : type <b>float</b></li>\n",
    "    <li>chaines de caractères : type <b>str</b></li>\n",
    "    <li>booléens (Vrai ou Faux) : type <b>Boolean</b></li>\n",
    "    <li>Listes : type composite</li>\n",
    "</ul>\n",
    "</p>"
   ]
  },
  {
   "cell_type": "code",
   "execution_count": 2,
   "metadata": {},
   "outputs": [],
   "source": [
    "a = 5 # la variable a est de type entier\n",
    "b = 7.8 # la variable b est de type float\n",
    "nom = \"NEWTON\" # La variable nom est de type str (chaine de caractères)\n",
    "test = True # La variable test est un booléen qui a pour valeur Vrai\n",
    "physiciens = [\"NEWTON\",\"GALILEE\",\"EINSTEIN\",\"POULEAU\",\"SEILER\",\"JONCHERAIS\"] # la variable physiciens est une liste de chaines de caractères (cette liste a 5 éléments)"
   ]
  },
  {
   "cell_type": "markdown",
   "metadata": {},
   "source": [
    "<h3>LES LISTES EN PYTHON</h3>\n",
    "<p>\n",
    "    Les listes en Python permettent de stocker plusieurs informations au sein d'une même variable.\n",
    "    <br>\n",
    "    Les listes ont pour équivalent en mathématiques les suites.\n",
    "    <br>\n",
    "    En Python, les listes sont délimités par des crochets et les éléments de la liste sont séparés par des virgules.\n",
    "</p>\n",
    "<p>\n",
    "    Reprenons notre exemple de liste de Physiciens.\n",
    "</p>"
   ]
  },
  {
   "cell_type": "code",
   "execution_count": null,
   "metadata": {},
   "outputs": [],
   "source": [
    "physiciens = [\"NEWTON\",\"GALILEE\",\"EINSTEIN\",\"POULEAU\",\"SEILER\",\"JONCHERAIS\"]\n",
    "# Les élements de la liste sont numérotés de 0 à 5\n",
    "# accès au premier élement de la liste\n",
    "print(\"Premier élément de la liste : \",physiciens[0])\n",
    "# accès au quatrième élement de la liste\n",
    "print(\"Quatrième élément de la liste : \",physiciens[3])\n",
    "#Pour obtenir la longueur d'une liste on utilise la fonction len()\n",
    "print(\"Longueur de la liste : \",len(physiciens))"
   ]
  },
  {
   "cell_type": "markdown",
   "metadata": {},
   "source": [
    "<h4>Ajout et suppression d'un élément à une liste</h4>\n",
    "<p>\n",
    "    Pour ajouter un élément à une liste, on peut utiliser la méthode <code><b>append()</b></code>.\n",
    "</p>"
   ]
  },
  {
   "cell_type": "code",
   "execution_count": 14,
   "metadata": {},
   "outputs": [
    {
     "name": "stdout",
     "output_type": "stream",
     "text": [
      "['NEWTON', 'GALILEE', 'EINSTEIN', 'POULEAU', 'SEILER', 'JONCHERAIS', 'FIEVRE']\n"
     ]
    }
   ],
   "source": [
    "physiciens = [\"NEWTON\",\"GALILEE\",\"EINSTEIN\",\"POULEAU\",\"SEILER\",\"JONCHERAIS\"]\n",
    "physiciens.append(\"FIEVRE\")\n",
    "print(physiciens)"
   ]
  },
  {
   "cell_type": "markdown",
   "metadata": {},
   "source": [
    "<p>\n",
    "    Pour supprimer un élément d'une liste à partir de son indice on utilise la méthode <code><b>del</b></code>\n",
    "</p>"
   ]
  },
  {
   "cell_type": "code",
   "execution_count": 2,
   "metadata": {},
   "outputs": [
    {
     "name": "stdout",
     "output_type": "stream",
     "text": [
      "['NEWTON', 'GALILEE', 'EINSTEIN', 'POULEAU', 'SEILER', 'JONCHERAIS']\n"
     ]
    }
   ],
   "source": [
    "physiciens = [\"NEWTON\",\"GALILEE\",\"EINSTEIN\",\"POULEAU\",\"SEILER\",\"JONCHERAIS\",\"MALHERBE\"]\n",
    "# On supprime l'intrus à partir de son indice\n",
    "del physiciens[6]\n",
    "print(physiciens)"
   ]
  },
  {
   "cell_type": "markdown",
   "metadata": {},
   "source": [
    "<p>\n",
    "    Pour supprimer un élément d'une liste à partir de sa valeur on utilise la méthode <code><b>remove</b></code>\n",
    "</p>"
   ]
  },
  {
   "cell_type": "code",
   "execution_count": 1,
   "metadata": {},
   "outputs": [
    {
     "name": "stdout",
     "output_type": "stream",
     "text": [
      "['NEWTON', 'GALILEE', 'EINSTEIN', 'POULEAU', 'SEILER', 'JONCHERAIS', 'MALHERBE']\n"
     ]
    }
   ],
   "source": [
    "physiciens = [\"NEWTON\",\"GALILEE\",\"EINSTEIN\",\"PERROTTEY\",\"POULEAU\",\"SEILER\",\"JONCHERAIS\",\"MALHERBE\"]\n",
    "# On supprime l'intrus à partir de son indice\n",
    "physiciens.remove(\"PERROTTEY\")\n",
    "print(physiciens)"
   ]
  },
  {
   "cell_type": "markdown",
   "metadata": {},
   "source": [
    "<hr>"
   ]
  },
  {
   "cell_type": "markdown",
   "metadata": {},
   "source": [
    "<H3>LES ENTREES - SORTIES</H3>\n",
    "<p>\n",
    "Les entrées au clavier peuvent se faire avec l'instruction <code>input()</code>.\n",
    "</p>\n",
    "<p>\n",
    "Les sorties au clavier peuvent se faire avec l'instruction <code>print()</code>.\n",
    "</p>"
   ]
  },
  {
   "cell_type": "code",
   "execution_count": 18,
   "metadata": {},
   "outputs": [
    {
     "name": "stdout",
     "output_type": "stream",
     "text": [
      "Saisis ton prénom : Hugues\n",
      "Saisis ton nom : Malherbe\n",
      "Bonjour  Hugues Malherbe comment vas-tu ?\n"
     ]
    }
   ],
   "source": [
    "#Exemple \n",
    "prenom = input(\"Saisis ton prénom : \")\n",
    "nom = input(\"Saisis ton nom : \")\n",
    "print(\"Bonjour \",prenom,nom,\"comment vas-tu ?\")"
   ]
  },
  {
   "cell_type": "markdown",
   "metadata": {},
   "source": [
    "<HR>"
   ]
  },
  {
   "cell_type": "markdown",
   "metadata": {},
   "source": [
    "<H3>LES STRUCTURES DE CONTROLE</H3>"
   ]
  },
  {
   "cell_type": "markdown",
   "metadata": {},
   "source": [
    "On distingue deux types de structures de contrôle :\n",
    "<ul>\n",
    "    <li>Les tests</li>\n",
    "    <li>Les boucles</li>\n",
    "</ul>"
   ]
  },
  {
   "cell_type": "markdown",
   "metadata": {},
   "source": [
    "<H3>Les tests</H3>\n",
    "<p>\n",
    "Un test est effectué par :\n",
    "<pre> \n",
    "<b>if</b> condition<b>:</b>\n",
    "   action si condition vraie\n",
    "<b>else:</b>\n",
    "   action si condition faux\n",
    "</pre>\n",
    "</p>\n",
    "<p>\n",
    "On peut effectuer plusieurs tests imbriqués à l'aide du mot clef <code><b>elif</b></code>.\n",
    "<pre> \n",
    "<b>if</b> condition 1<b>:</b>\n",
    "   action si condition 1 vraie\n",
    "<b>elif</b> condition 2<b>:</b>\n",
    "   action si condition 2 vraie\n",
    "<b>elif</b> condition 3<b>:</b>\n",
    "   action si condition 3 vraie\n",
    "<b>else:</b>\n",
    "   action si les 3 conditions sont fausses\n",
    "</pre>\n",
    "</p>"
   ]
  },
  {
   "cell_type": "markdown",
   "metadata": {},
   "source": [
    "<b>Exemple 1</b> : Compléter le programme suivant qui demande la moyenne générale d'un candidat au bac et donne son résultat (admis ou non admis)"
   ]
  },
  {
   "cell_type": "code",
   "execution_count": null,
   "metadata": {},
   "outputs": [],
   "source": [
    "moyenne = float(input(\"Moyenne\"))"
   ]
  },
  {
   "cell_type": "markdown",
   "metadata": {},
   "source": [
    "<b>Exemple 2</b> : Compléter le programme suivant qui demande la moyenne générale d'un candidat au bac et donne son résultat (admis ou non admis et la mention obtenue le cas échéant)"
   ]
  },
  {
   "cell_type": "code",
   "execution_count": null,
   "metadata": {},
   "outputs": [],
   "source": [
    "moyenne = float(input(\"Moyenne\"))"
   ]
  },
  {
   "cell_type": "markdown",
   "metadata": {},
   "source": [
    "<hr>"
   ]
  },
  {
   "cell_type": "markdown",
   "metadata": {},
   "source": [
    "<h3>Les boucles</h3>\n",
    "<p>\n",
    "Il existe deux types de boucles :\n",
    "<ul>\n",
    "    <li>La boucle <code><b>while</b></code></li>\n",
    "    <li>La boucle <code><b>for</b></code></li>\n",
    "</ul>\n",
    "</p>\n",
    "<p>\n",
    "La syntaxe de la boucle <code>while</code> est :\n",
    "<pre>\n",
    "    <b>while</b> condition<b>:</b>\n",
    "        action\n",
    "</pre>\n",
    "Tant que la condition est vérifiée on répéte l'action.\n",
    "</p>\n",
    "<p>\n",
    "Une syntaxe possible pour la boucle <b>for</b> est :\n",
    "<pre>\n",
    "<b>for</b> i in <b>range(n):</b>\n",
    "    action\n",
    "</pre>\n",
    "La variable <code><b>i</b></code> que l'on nomme compteur de boucle va prendre les valeurs successives de 0 à <code>n - 1</code>\n",
    "</p>"
   ]
  },
  {
   "cell_type": "markdown",
   "metadata": {},
   "source": [
    "Exemples : expérimentez les programmes suivants qui utilisent des boucles <code><b>while</b></code> et <code><b>for</b></code>"
   ]
  },
  {
   "cell_type": "code",
   "execution_count": 3,
   "metadata": {},
   "outputs": [
    {
     "name": "stdout",
     "output_type": "stream",
     "text": [
      "1\n",
      "3\n",
      "5\n",
      "7\n",
      "9\n",
      "11\n",
      "13\n",
      "15\n",
      "17\n",
      "19\n",
      "21\n",
      "23\n",
      "25\n",
      "27\n",
      "29\n"
     ]
    }
   ],
   "source": [
    "a = 1\n",
    "while a < 30:\n",
    "    print(a)\n",
    "    a = a + 2"
   ]
  },
  {
   "cell_type": "code",
   "execution_count": 4,
   "metadata": {},
   "outputs": [
    {
     "name": "stdout",
     "output_type": "stream",
     "text": [
      "0\n",
      "1\n",
      "4\n",
      "9\n",
      "16\n",
      "25\n",
      "36\n",
      "49\n",
      "64\n",
      "81\n"
     ]
    }
   ],
   "source": [
    "for i in range(10):\n",
    "    print(i*i)"
   ]
  },
  {
   "cell_type": "code",
   "execution_count": 5,
   "metadata": {},
   "outputs": [
    {
     "name": "stdout",
     "output_type": "stream",
     "text": [
      "NEWTON\n",
      "GALILEE\n",
      "EINSTEIN\n",
      "POULEAU\n",
      "SEILER\n"
     ]
    }
   ],
   "source": [
    "physiciens = [\"NEWTON\",\"GALILEE\",\"EINSTEIN\",\"POULEAU\",\"SEILER\"]\n",
    "for p in physiciens:\n",
    "    print(p)"
   ]
  },
  {
   "cell_type": "code",
   "execution_count": 6,
   "metadata": {},
   "outputs": [
    {
     "name": "stdout",
     "output_type": "stream",
     "text": [
      "NEWTON\n",
      "GALILEE\n",
      "EINSTEIN\n",
      "POULEAU\n",
      "SEILER\n"
     ]
    }
   ],
   "source": [
    "physiciens = [\"NEWTON\",\"GALILEE\",\"EINSTEIN\",\"POULEAU\",\"SEILER\"]\n",
    "for i in range(len(physiciens)):\n",
    "    print(physiciens[i])"
   ]
  },
  {
   "cell_type": "markdown",
   "metadata": {},
   "source": [
    "<hr>"
   ]
  },
  {
   "cell_type": "markdown",
   "metadata": {},
   "source": [
    "<h3>LES FONCTIONS EN PYTHON</h3>\n",
    "<p>\n",
    "Lorsqu’une tâche doit être réalisée plusieurs fois par un programme avec seulement des paramètres différents, on peut l’isoler au sein d’une fonction. \n",
    "</p>\n",
    "<p>\n",
    "Nous avons déjà rencontré diverses fonctions prédéfinies : <code><b>print(), input(), range(), len()</b></code>.\n",
    "</p>\n",
    "<p>\n",
    "La syntaxe Python pour la définition d’une fonction est la suivante :\n",
    "<pre>\n",
    "<b>def</b> nom_fonction(liste de paramètres)<b>:</b>\n",
    "      bloc d'instructions\n",
    "</pre>\n",
    "\n",
    "<u><b>Exemples</b></u> :\n",
    "</p>"
   ]
  },
  {
   "cell_type": "code",
   "execution_count": 10,
   "metadata": {},
   "outputs": [
    {
     "name": "stdout",
     "output_type": "stream",
     "text": [
      "Les initiales de Marie Curie sont :  MC\n",
      "-------------------------\n",
      "L'image de -3 par la fonction f est :  -11\n"
     ]
    }
   ],
   "source": [
    "# Fonction qui retourne les initiales à partir de la donnée d'un prénom et d'un nom\n",
    "def initiales(prenom,nom):\n",
    "    return prenom[0]+nom[0]\n",
    "\n",
    "print(\"Les initiales de Marie Curie sont : \",initiales(\"Marie\",\"Curie\"))\n",
    "print(\"-------------------------\")\n",
    "#Fonction qui calcule l'image d'un nombre par la fonction affine définie par f(x) = 4x + 1\n",
    "def f(x):\n",
    "    return 4*x + 1\n",
    "\n",
    "print(\"L'image de -3 par la fonction f est : \",f(-3))"
   ]
  },
  {
   "cell_type": "markdown",
   "metadata": {},
   "source": [
    "<hr>"
   ]
  },
  {
   "cell_type": "markdown",
   "metadata": {},
   "source": [
    "<h3>L'indentation en Python</h3>\n",
    "En Python, les blocs d'instructions sont automatiquement et obligatoirement présentés en utilisant l'<b>indentation</b>\n",
    "\n",
    "<u><b>Exemple</b></u> : ce programme calcule les n premiers termes de la suite de Syracuse définie par :\n",
    "<ul>\n",
    "    <li>la donnée de $u_0$;</li>\n",
    "    <li>$u_{n+1} = \\frac{u_n}{2}$ si $n$ est pair;</li>\n",
    "    <li>$u_{n+1} = 3 \\times u_n + 1$ si $n$ est impair.</li>\n",
    "</ul>\n",
    "<p>\n",
    "    A remarquer que :\n",
    "    <ul>\n",
    "        <li>les blocs sont successivement décalés (indentés vers la droite)</li>\n",
    "        <li>la structure conditionnelle (<code><b>if</b></code>.... <code><b>else</b></code>) est à l'intérieur de la boucle <code><b>for</b></code> : donc indentée vers la droite</li>\n",
    "        <li>l'instruction <code><b>return</b></code> est au même niveau d'indentation que le <code><b>for</b></code> : donc le <code><b>return</b></code> s'exécute une fois la boucle <code><b>for</b></code> terminée.</li>\n",
    "   </ul>\n",
    "</p>"
   ]
  },
  {
   "cell_type": "code",
   "execution_count": null,
   "metadata": {},
   "outputs": [],
   "source": [
    "def suite_Syracuse(u,n):\n",
    "    l = [u]\n",
    "    for i in range(n):\n",
    "        if u % 2 == 0:\n",
    "            u = u / 2\n",
    "        else:\n",
    "            u = 3*u + 1\n",
    "        l.append(u)\n",
    "    return l\n",
    "\n",
    "print(suite_Syracuse(35,10))\n",
    "        "
   ]
  },
  {
   "cell_type": "markdown",
   "metadata": {},
   "source": [
    "<HR>"
   ]
  },
  {
   "cell_type": "markdown",
   "metadata": {},
   "source": [
    "<h3>Exemple de TP utilisant Python : représenter des données expérimentales issues d'un fichier csv</h3>\n",
    "On reproduit une expérience qui illustre la relation en électricité : $U = R \\times I$.\n",
    "<br>\n",
    "Les données expérimentales sont présentes dans un fichier de type <b>csv</b>.\n",
    "<br>\n",
    "Voici un affichage de ce fichier : il contient une ligne d'entête \"Intensité, Tension\", puis chaque contient contient un couple (intensité, tension) séparé par une virgule."
   ]
  },
  {
   "cell_type": "raw",
   "metadata": {},
   "source": [
    "Intensité,Tension\n",
    "5,26.82\n",
    "6,32.46\n",
    "7,37.57\n",
    "8,41.28\n",
    "9,44.42\n",
    "10,54.94\n",
    "11,58.98\n",
    "12,62.03\n",
    "13,69.84\n",
    "14,64.21\n",
    "15,70.81\n",
    "16,76.35\n",
    "17,82.62\n",
    "18,97.8\n",
    "19,95.4\n",
    "20,101.84\n",
    "21,110.65\n",
    "22,104.48\n",
    "23,115.82\n",
    "24,120.39\n",
    "25,122.36\n",
    "26,123.11\n",
    "27,126.46\n",
    "28,146.88\n",
    "29,141.66"
   ]
  },
  {
   "cell_type": "markdown",
   "metadata": {},
   "source": [
    "<h2>Lecture d'un fichier <b>csv</b> en Python</h2>\n",
    "Il existe une bibliothèque Python nommée <b>csv</b> pour lire (ou écrire) des fichiers de ce type.\n",
    "<p>\n",
    "    Voici un exemple de code Python qui lit un fichier csv nommé OMH.csv\n",
    "</p>"
   ]
  },
  {
   "cell_type": "code",
   "execution_count": null,
   "metadata": {},
   "outputs": [],
   "source": [
    "import csv\n",
    "\n",
    "NOM_FICHIER_DONNEES = \"OHM.csv\"\n",
    "\n",
    "def lire_fichier_csv():\n",
    "    with open(NOM_FICHIER_DONNEES, 'r', newline='') as f:  #On ouvre le fichier en mode lecture\n",
    "        data = csv.reader(f, delimiter=',')                #On lit l'ensemble du contenu du fichier \n",
    "        lignes = [] \n",
    "        for row in data:\n",
    "            lignes.append(row)                             #on construit une liste qui contient toutes les lignes du fichier\n",
    "    return lignes                                          #La \n",
    "\n",
    "print(lire_fichier_csv())"
   ]
  },
  {
   "cell_type": "markdown",
   "metadata": {},
   "source": [
    "<hr>"
   ]
  },
  {
   "cell_type": "markdown",
   "metadata": {},
   "source": [
    "<h2>Représentation graphique des données du fichier csv à l'aide de la bibliothèque Python <b>matplotlib</b></h2>\n",
    "La bibliothèque Python <b>matplotlib</b> permet de représenter graphiquement des données.\n",
    "<p>\n",
    "    Cette bibliothèque est très riche et permet de représenter de nombreux types de graphiques.\n",
    "    Voici un lien vers un tutoriel pour découvrir les fonctionnalités de la bibliothèque <b>matplotlib</b> : <a href=\"https://python.developpez.com/tutoriels/graphique-2d/matplotlib/\">Tutoriel matplotlib</a>\n",
    "</p>\n",
    "<p>\n",
    "    Dans notre exemple, nous allons représenter les données expérimentales issues du fichier csv sous la forme d'un nuage de points à l'aide de la méthode <code><b></b>plot()</code>."
   ]
  },
  {
   "cell_type": "code",
   "execution_count": 11,
   "metadata": {},
   "outputs": [
    {
     "data": {
      "text/plain": [
       "<Figure size 640x480 with 1 Axes>"
      ]
     },
     "metadata": {},
     "output_type": "display_data"
    }
   ],
   "source": [
    "import csv\n",
    "import matplotlib.pyplot as plt\n",
    "from random import *\n",
    "import numpy as np\n",
    "import scipy.stats\n",
    "\n",
    "NOM_FICHIER_DONNEES = \"OHM.csv\"\n",
    "\n",
    "def lire_fichier_csv():\n",
    "    with open(NOM_FICHIER_DONNEES, 'r', newline='') as f:\n",
    "        data = csv.reader(f, delimiter=',')\n",
    "        lignes = []\n",
    "        for row in data:\n",
    "            lignes.append(row)\n",
    "    return lignes\n",
    "\n",
    "def trace_donnees(lignes):\n",
    "    x = []\n",
    "    y = []\n",
    "    for l in lignes[1:]:    # parcourt les lignes de données à partir de la ligne 2 (la ligne 1 contient les entêtes)\n",
    "        x.append(float(l[0])) # On renseigne les intensités dans la liste nommée x en convertissant les données au format texte de la liste lignes en nombre à virgules (avec float())\n",
    "        y.append(float(l[1])) # On renseigne les tensions dans la liste nommée y en convertissant les données au format texte de la liste lignes en nombre à virgules (avec float())\n",
    "    plt.scatter(x,y,marker='*')  # permet de représenter la liste des données sous la forme d'un buage de point avec un marqueur qui est ici une étoile.\n",
    "    plt.legend([\"Données expérimentales\"])\n",
    "    plt.title('Tension en fonction de l\\'intensité')\n",
    "    plt.xlabel('Intensité (A)')\n",
    "    plt.ylabel('Tension (V)')\n",
    "    plt.grid(which='major', linestyle='-', linewidth='0.5', color='darkblue')\n",
    "    plt.savefig('Ohm.png') # La figure est sauvegardée dans un fichier image\n",
    "    plt.show()\n",
    "   \n",
    "lignes = lire_fichier_csv()\n",
    "trace_donnees(lignes)"
   ]
  },
  {
   "cell_type": "markdown",
   "metadata": {},
   "source": [
    "<hr>"
   ]
  },
  {
   "cell_type": "markdown",
   "metadata": {},
   "source": [
    "<h3>Utilisation d'une régression linéaire pour déterminer une valeur approchée de la résistance</h3>\n",
    "<p>\n",
    "    Nous allons représenter graphiquement la droite de regression linéaire associée au nuage de points tracé.\n",
    "    <br>\n",
    "    Pour cela, on peut utiliser le module <code><b>stats</b></code> de la bibliothèque <code><b>scipy</b></code>.\n",
    "    <br>\n",
    "    <a href=\"https://www.scipy.org/\">Scipy</a> est un projet qui unifie et fédére un ensemble de bibliothèques Python à usage scientifique. Scipy utilise les tableaux et matrices du module <b>NumPy</b>.\n",
    "</p>\n",
    "<p>\n",
    "    Dans notre exemple, nous utilisons la méthode <code><b>linregress()</b></code> qui permet de calculer les paramètres d'une régression linéaire pour deux listes passées en paramètres."
   ]
  },
  {
   "cell_type": "markdown",
   "metadata": {},
   "source": [
    "Voici le contenu de l'aide sur cette méthode disponible en ligne <a href=\"http://scipy.github.io/devdocs/generated/scipy.stats.linregress.html?highlight=linr#scipy.stats.linregress\">ici</a>. \n",
    "<p>\n",
    "<b>scipy.stats.linregress(x, y=None)</b>\n",
    "Calculate a linear least-squares regression for two sets of measurements.\n",
    "</p>\n",
    "<p>\n",
    "<b>Parameters</b> : x, yarray_like\n",
    "Two sets of measurements. Both arrays should have the same length. If only x is given (and y=None), then it must be a two-dimensional array where one dimension has length 2. The two sets of measurements are then found by splitting the array along the length-2 dimension. In the case where y=None and x is a 2x2 array, linregress(x) is equivalent to linregress(x[0], x[1]).\n",
    "</p>\n",
    "<p>\n",
    "    <b>Returns :</b>\n",
    "    <ul>\n",
    "        <li><b>slopefloat</b> : Slope of the regression line.</li>\n",
    "        <li><b>interceptfloat</b> : Intercept of the regression line.</li>\n",
    "        <li><b>rvaluefloat</b> : Correlation coefficient.</li>\n",
    "        <li><b>pvaluefloat</b> : Two-sided p-value for a hypothesis test whose null hypothesis is that the slope is zero, using Wald Test with t-distribution of the test statistic.</li>\n",
    "        <li><b>stderrfloat</b> : Standard error of the estimated gradient.</li>\n",
    "    </ul>\n",
    "</p>\n",
    "<p>\n",
    "    Dans notre exemple, les valeurs de retour de la méthode <code><b>linregress()</b></code> qui nous intéressent sont :\n",
    "    <ul>\n",
    "        <li>la pente de la droite de régression linéaire : paramètre <b>slopefloat</b></li>\n",
    "        <li>l'ordonnée à l'origine de la droite de regression linéaire : paramètre <b>interceptloat</b></li>\n",
    "        <li>le coefficient de corrélation : paramètre <b>rvaluefloat</b></li>\n",
    "    </ul>\n",
    "</p>\n",
    "<p>\n",
    "    Voici un exemple de programme Python qui : \n",
    "    <ul>\n",
    "        <li>affiche les données expérimentales sous forme de nuage de points;</li>\n",
    "        <li>afficha la droite de régression linéaire associée;</li>\n",
    "        <li>Calcule et affiche la valeur de la résistance estimée (c'est la pente de la droite);</li>\n",
    "        <li>Calcule et affiche le coefficient de détermination (égal au carré du coefficient de corrélation) de la régression linéaire.</li>"
   ]
  },
  {
   "cell_type": "code",
   "execution_count": 5,
   "metadata": {},
   "outputs": [
    {
     "data": {
      "image/png": "[encoded data removed]",
      "text/plain": [
       "<Figure size 576x576 with 1 Axes>"
      ]
     },
     "metadata": {
      "needs_background": "light"
     },
     "output_type": "display_data"
    }
   ],
   "source": [
    "import csv\n",
    "import matplotlib.pyplot as plt\n",
    "from random import *\n",
    "import numpy as np\n",
    "import scipy.stats\n",
    "\n",
    "NOM_FICHIER_DONNEES = \"OHM.csv\"\n",
    "\n",
    "def lire_fichier_csv():\n",
    "    with open(NOM_FICHIER_DONNEES, 'r', newline='') as f:\n",
    "        data = csv.reader(f, delimiter=',')\n",
    "        lignes = []\n",
    "        for row in data:\n",
    "            lignes.append(row)\n",
    "    return lignes\n",
    "\n",
    "def trace_donnees(lignes):\n",
    "    x = []\n",
    "    y = []\n",
    "    for l in lignes[1:]:\n",
    "        x.append(float(l[0]))\n",
    "        y.append(float(l[1]))\n",
    "    a, b, r_value, p_value,std_err = scipy.stats.linregress(x, y)  #appel à la méthode qui permet de calculer les paramètres de la régression linéaire\n",
    "    coeff_determination = round(r_value*r_value,4)  # Calcul du coefficient de détermination de la régression linéaire\n",
    "    plt.figure(figsize=(8,8))\n",
    "    plt.scatter(x,y,marker='*')\n",
    "    plt.text(5,max(y)*0.9,\"Résistance estimée : \" + str(round(a,3)) + \" \\u03A9\",fontsize=20)\n",
    "    plt.text(5,max(y)*0.85,\"Coefficient de détermination : \" + str(coeff_determination),fontsize=15)\n",
    "    plt.legend([\"Données expérimentales\"])\n",
    "    xreg = np.array(x)                    # création d'un tableau pour les abscisses (appel à une méthode de la bibliothèque numpy)\n",
    "    plt.plot(xreg,a*xreg+b,color='black')  # affichage de la droite de régression linéaire d'équation y = ax + b\n",
    "    plt.title('Tension en fonction de l\\'intensité')\n",
    "    plt.xlabel('Intensité (A)')\n",
    "    plt.ylabel('Tension (V)')\n",
    "    plt.grid(which='major', linestyle='-', linewidth='0.5', color='darkblue')\n",
    "    plt.savefig('Ohm.png')\n",
    "    plt.show()\n",
    "   \n",
    "lignes = lire_fichier_csv()\n",
    "trace_donnees(lignes)\n",
    "   \n",
    "\n",
    "\n",
    "\n",
    "\n",
    "\n"
   ]
  },
  {
   "cell_type": "markdown",
   "metadata": {},
   "source": [
    "<hr>"
   ]
  },
  {
   "cell_type": "markdown",
   "metadata": {},
   "source": [
    "<h3>Simulation du jeu de données et écriture du fichier csv</h3>\n",
    "<p>\n",
    "    Voici le programme précédent complété avec la possibilité de générer le jeu de données alétoirement avec une marge d'erreur relative maximale fixée par la constante <code><b>VARIATION</b></code>. "
   ]
  },
  {
   "cell_type": "code",
   "execution_count": 6,
   "metadata": {},
   "outputs": [
    {
     "name": "stdout",
     "output_type": "stream",
     "text": [
      "1 : ecrit le fichier csv de données\n",
      "2 : lit le fichier csv de données et représente les données (avec la régression linéaire)\n",
      "3 : ecrit lit le fichier csv de données, lit le fichier csv et représente les données (avec la régression linéaire)\n"
     ]
    },
    {
     "name": "stdin",
     "output_type": "stream",
     "text": [
      "choix :  3\n",
      "Saisir la valeur de résistance à estimer :  23\n"
     ]
    },
    {
     "data": {
      "image/png": "[encoded data removed]",
      "text/plain": [
       "<Figure size 576x576 with 1 Axes>"
      ]
     },
     "metadata": {
      "needs_background": "light"
     },
     "output_type": "display_data"
    }
   ],
   "source": [
    "import csv\n",
    "import matplotlib.pyplot as plt\n",
    "from random import *\n",
    "import numpy as np\n",
    "import scipy.stats\n",
    "\n",
    "NOM_FICHIER_DONNEES = \"OHM.csv\"\n",
    "VARIATION = 0.1\n",
    "\n",
    "def ecrire_fichier_csv(R):\n",
    "    with open(NOM_FICHIER_DONNEES, 'w', newline='') as f:\n",
    "        writer = csv.writer(f)\n",
    "        writer.writerow([\"Intensité\",\"Tension\"])\n",
    "        for i in range(5,30):\n",
    "            u = R*i\n",
    "            u = round(u*(2*VARIATION*random()+1-VARIATION),2)\n",
    "            writer.writerow([i,u])\n",
    "\n",
    "def lire_fichier_csv():\n",
    "    with open(NOM_FICHIER_DONNEES, 'r', newline='') as f:\n",
    "        data = csv.reader(f, delimiter=',')\n",
    "        lignes = []\n",
    "        for row in data:\n",
    "            lignes.append(row)\n",
    "    return lignes\n",
    "\n",
    "def trace_donnees(lignes):\n",
    "    x = []\n",
    "    y = []\n",
    "    for l in lignes[1:]:\n",
    "        x.append(float(l[0]))\n",
    "        y.append(float(l[1]))\n",
    "    a, b, r_value, p_value,std_err = scipy.stats.linregress(x, y)  \n",
    "    coeff_determination = round(r_value*r_value,4)  \n",
    "    plt.figure(figsize=(8,8))\n",
    "    plt.scatter(x,y,marker='*')\n",
    "    plt.text(5,max(y)*0.9,\"Résistance estimée : \" + str(round(a,3)) + \" \\u03A9\",fontsize=20)\n",
    "    plt.text(5,max(y)*0.85,\"Coefficient de détermination : \" + str(coeff_determination),fontsize=15)\n",
    "    plt.legend([\"Données expérimentales\",\"Régression linéaire\"])\n",
    "    xreg = np.array(x)\n",
    "    plt.plot(xreg,a*xreg+b,color='black')\n",
    "    plt.grid(which='major', linestyle='-', linewidth='0.5', color='darkblue')\n",
    "    plt.title('Tension en fonction de l\\'intensité')\n",
    "    plt.xlabel('Intensité (A)')\n",
    "    plt.ylabel('Tension (V)')\n",
    "    plt.savefig('Ohm.png')\n",
    "    plt.show()\n",
    "   \n",
    "print(\"1 : ecrit le fichier csv de données\")\n",
    "print(\"2 : lit le fichier csv de données et représente les données (avec la régression linéaire)\")\n",
    "print(\"3 : ecrit lit le fichier csv de données, lit le fichier csv et représente les données (avec la régression linéaire)\")\n",
    "choix = int(input(\"choix : \"))\n",
    "if choix == 1:\n",
    "    resistance = int(input(\"Saisir la valeur de résistance à estimer : \"))\n",
    "    ecrire_fichier_csv(resistance)\n",
    "elif choix == 2:\n",
    "    lignes = lire_fichier_csv()\n",
    "    trace_donnees(lignes)\n",
    "else:\n",
    "    resistance = int(input(\"Saisir la valeur de résistance à estimer : \"))\n",
    "    ecrire_fichier_csv(resistance)\n",
    "    lignes = lire_fichier_csv()\n",
    "    trace_donnees(lignes)\n",
    "   \n",
    "\n",
    "\n",
    "\n",
    "\n",
    "\n"
   ]
  },
  {
   "cell_type": "markdown",
   "metadata": {},
   "source": [
    "<hr>"
   ]
  },
  {
   "cell_type": "markdown",
   "metadata": {},
   "source": [
    "<h3> Pour aller plus loin .....</h3>\n",
    "<p>\n",
    "En vous inspirant de l'exemple précédent, imaginez un TP utilisant Python qui illustre :\n",
    "<ul>\n",
    "    <li>La loi de Boyle-Mariotte pour les gaz parfaits : $P \\times V = cte$;</li>\n",
    "    <li> La loi de désintégration radioactive : $N(t) = N_0 \\times e^{-\\lambda \\times t}$\n",
    "</ul>\n",
    "</p>"
   ]
  }
 ],
 "metadata": {
  "kernelspec": {
   "display_name": "Python 3",
   "language": "python",
   "name": "python3"
  },
  "language_info": {
   "codemirror_mode": {
    "name": "ipython",
    "version": 3
   },
   "file_extension": ".py",
   "mimetype": "text/x-python",
   "name": "python",
   "nbconvert_exporter": "python",
   "pygments_lexer": "ipython3",
   "version": "3.7.3"
  }
 },
 "nbformat": 4,
 "nbformat_minor": 4
}
